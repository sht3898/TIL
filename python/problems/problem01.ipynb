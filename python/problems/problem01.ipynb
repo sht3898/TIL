{
 "cells": [
  {
   "cell_type": "markdown",
   "metadata": {},
   "source": [
    "# 상승장? 하락장?\n",
    "\n",
    "> 최고가와 최저가의 차이를 변동폭으로 정의할 때 (시가 + 변동폭)이 최고가 보다 높을 경우 \"상승장\", 그렇지 않은 경우 \"하락장\" 문자열을 출력하라.\n",
    "\n",
    "|Key Name|Description|\n",
    "|------|---|\n",
    "|opeing_price|최근 24시간 내 시작 거래금액|\n",
    "|closing_price|최근 24시간 내 마지막 거래금액|\n",
    "|min_price|최근 24시간 내 최저 거래금액|\n",
    "|max_price|최근 24시간 내 최고 거래금액|"
   ]
  },
  {
   "cell_type": "code",
   "execution_count": 2,
   "metadata": {},
   "outputs": [
    {
     "name": "stdout",
     "output_type": "stream",
     "text": [
      "{'24H_fluctate': '-1343000',\n",
      " '24H_fluctate_rate': '-9.85',\n",
      " 'average_price': '12699518.1004',\n",
      " 'buy_price': '12283000',\n",
      " 'closing_price': '12290000',\n",
      " 'date': '1563170744320',\n",
      " 'max_price': '13648000',\n",
      " 'min_price': '11879000',\n",
      " 'opening_price': '13633000',\n",
      " 'sell_price': '12296000',\n",
      " 'units_traded': '16828.30640801',\n",
      " 'volume_1day': '16828.30640801',\n",
      " 'volume_7day': '90000.82763557'}\n"
     ]
    }
   ],
   "source": [
    "import pprint\n",
    "import requests\n",
    "\n",
    "url = \"https://api.bithumb.com/public/ticker/btc\"\n",
    "data = requests.get(url).json()['data']\n",
    "pprint.pprint(data)"
   ]
  },
  {
   "cell_type": "code",
   "execution_count": 12,
   "metadata": {},
   "outputs": [
    {
     "name": "stdout",
     "output_type": "stream",
     "text": [
      "상승장\n"
     ]
    }
   ],
   "source": [
    "# 아래에 코드를 작성하세요.\n",
    "gap = int(data['max_price']) - int(data['min_price'])\n",
    "if int(data['opening_price']) + gap > int(data['max_price']):\n",
    "    print('상승장')\n",
    "else:\n",
    "    print('하락장')"
   ]
  },
  {
   "cell_type": "markdown",
   "metadata": {},
   "source": [
    "# 모음 제거하기\n",
    "\n",
    "> 다음 문장의 모음을 제거하여 출력하세요.\n",
    "\n",
    "```\n",
    "예시 입력)\n",
    "\"Life is too short, you need python\"\n",
    "예시 출력)\n",
    "Lf s t shrt, y nd pythn\n",
    "```"
   ]
  },
  {
   "cell_type": "code",
   "execution_count": 18,
   "metadata": {},
   "outputs": [],
   "source": [
    "my_str = \"Life is too short, you need python\""
   ]
  },
  {
   "cell_type": "code",
   "execution_count": 109,
   "metadata": {},
   "outputs": [
    {
     "name": "stdout",
     "output_type": "stream",
     "text": [
      "Lf s t shrt, y nd pythn\n",
      "Lf s t shrt, y nd pythn"
     ]
    }
   ],
   "source": [
    "# 아래에 코드를 작성하세요.\n",
    "# ver1\n",
    "# my_str를 반복하면서,\n",
    "# 모음이 아니면,  answer에 추가한다.\n",
    "# 반복문이 끝나면 출력한다.\n",
    "answer = ''\n",
    "for i in my_str:\n",
    "    if i != 'i' and i != 'e' and i != 'o' and i != 'u':\n",
    "        answer += i\n",
    "print(answer)\n",
    "\n",
    "# ver2\n",
    "for i in my_str:\n",
    "    if i == 'i' or i == 'e' or i == 'o' or i == 'u':\n",
    "        i = ''\n",
    "    print(i, end='')"
   ]
  },
  {
   "cell_type": "code",
   "execution_count": 170,
   "metadata": {},
   "outputs": [
    {
     "name": "stdout",
     "output_type": "stream",
     "text": [
      "Lf s t shrt, y nd pythn\n"
     ]
    }
   ],
   "source": [
    "# 아래에 코드를 작성하세요.(선생님 버전)\n",
    "result = ''\n",
    "# my_str를 반복하면서,\n",
    "for char in my_str:\n",
    "    # 모음이 아니면,  result에 추가한다.\n",
    "#     if char not in ['a', 'e', 'i', 'o', 'u']:\n",
    "    if char not in 'aeiou':\n",
    "        result += char\n",
    "# 반복문이 끝나면 출력한다.\n",
    "print(result)"
   ]
  },
  {
   "cell_type": "code",
   "execution_count": 172,
   "metadata": {},
   "outputs": [
    {
     "name": "stdout",
     "output_type": "stream",
     "text": [
      "Lf s t shrt, y nd pythn\n"
     ]
    }
   ],
   "source": [
    "for vowel in 'aeiou':\n",
    "    my_str = my_str.replace(vowel, '')\n",
    "print(my_str)"
   ]
  },
  {
   "cell_type": "markdown",
   "metadata": {},
   "source": [
    "# 개인정보보호\n",
    "> 사용자의 핸드폰번호를 입력 받으려고한다. 개인정보 보호를 위하여 뒷자리 4자리를 제외하고는 마스킹 처리를 하려고한다.\n",
    ">\n",
    "> 핸드폰번호는 010으로 시작해야하고 11자리여야한다. 핸드폰번호를 입력하지 않았다면 \"핸드폰번호를 입력하세요\"를 출력한다\n",
    "\n",
    "```\n",
    "예시 입력)\n",
    "01012341234\n",
    "예시 출력)\n",
    "*******1234\n",
    "```"
   ]
  },
  {
   "cell_type": "code",
   "execution_count": 176,
   "metadata": {},
   "outputs": [
    {
     "name": "stdout",
     "output_type": "stream",
     "text": [
      "01092443898\n"
     ]
    }
   ],
   "source": [
    "phone = input()"
   ]
  },
  {
   "cell_type": "code",
   "execution_count": 177,
   "metadata": {
    "scrolled": true
   },
   "outputs": [
    {
     "name": "stdout",
     "output_type": "stream",
     "text": [
      "*******3898\n",
      "*******3898"
     ]
    }
   ],
   "source": [
    "# 아래에 코드를 작성하세요.\n",
    "# ver1\n",
    "number = []\n",
    "if len(phone) < 11:\n",
    "    print('핸드폰 번호를 입력하세요')\n",
    "elif phone[0:3] != '010':\n",
    "    print('핸드폰 번호를 입력하세요')\n",
    "else:\n",
    "    print(f'*******{phone[7:11]}')\n",
    "\n",
    "# ver2\n",
    "phone_number = list(phone)\n",
    "if len(phone) < 11:\n",
    "    print('핸드폰 번호를 입력하세요')\n",
    "elif phone[0:3] != '010':\n",
    "    print('핸드폰 번호를 입력하세요')\n",
    "else:\n",
    "    for i in range(7):\n",
    "        phone_number[i] = '*'\n",
    "    for i in phone_number:\n",
    "        print(i, end='')"
   ]
  },
  {
   "cell_type": "code",
   "execution_count": 178,
   "metadata": {},
   "outputs": [
    {
     "name": "stdout",
     "output_type": "stream",
     "text": [
      "*******3898\n"
     ]
    }
   ],
   "source": [
    "if phone[0:3] == '010' and len(phone) == 11:\n",
    "    print('*'*7 + phone[-4:])\n",
    "else:\n",
    "    print('핸드폰 번호를 입력하세요')"
   ]
  },
  {
   "cell_type": "code",
   "execution_count": 179,
   "metadata": {},
   "outputs": [
    {
     "name": "stdout",
     "output_type": "stream",
     "text": [
      "*******3898\n"
     ]
    }
   ],
   "source": [
    "if phone.startswith('010') and len(phone) == 11:\n",
    "    print(f'{phone[-4:]:*>11}')"
   ]
  },
  {
   "cell_type": "markdown",
   "metadata": {},
   "source": [
    "# 정중앙\n",
    "> 사용자가 입력한 문자열중 가운데 글자를 출력하라. 문자열이 짝수라면 가운데 두글자를 출력하라"
   ]
  },
  {
   "cell_type": "code",
   "execution_count": 185,
   "metadata": {},
   "outputs": [
    {
     "name": "stdout",
     "output_type": "stream",
     "text": [
      "안녕하세요\n"
     ]
    }
   ],
   "source": [
    "text = input()"
   ]
  },
  {
   "cell_type": "code",
   "execution_count": 187,
   "metadata": {},
   "outputs": [
    {
     "name": "stdout",
     "output_type": "stream",
     "text": [
      "하\n"
     ]
    }
   ],
   "source": [
    "# 아래에 코드를 작성하세요.\n",
    "if len(text) % 2 == 1:\n",
    "    print(text[len(text)//2])\n",
    "else:\n",
    "    print(text[len(text)//2 - 1:len(text)//2 + 1])"
   ]
  },
  {
   "cell_type": "code",
   "execution_count": 189,
   "metadata": {},
   "outputs": [
    {
     "name": "stdout",
     "output_type": "stream",
     "text": [
      "하\n"
     ]
    }
   ],
   "source": [
    "num = len(text) // 2\n",
    "if len(text) % 2:\n",
    "    print(text[num])\n",
    "else:\n",
    "    print(text[num-1:num+1])"
   ]
  }
 ],
 "metadata": {
  "kernelspec": {
   "display_name": "Python 3",
   "language": "python",
   "name": "python3"
  },
  "language_info": {
   "codemirror_mode": {
    "name": "ipython",
    "version": 3
   },
   "file_extension": ".py",
   "mimetype": "text/x-python",
   "name": "python",
   "nbconvert_exporter": "python",
   "pygments_lexer": "ipython3",
   "version": "3.7.3"
  },
  "toc": {
   "base_numbering": 1,
   "nav_menu": {},
   "number_sections": true,
   "sideBar": true,
   "skip_h1_title": false,
   "title_cell": "Table of Contents",
   "title_sidebar": "Contents",
   "toc_cell": false,
   "toc_position": {},
   "toc_section_display": true,
   "toc_window_display": false
  }
 },
 "nbformat": 4,
 "nbformat_minor": 2
}
