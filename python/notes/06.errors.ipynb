{
 "cells": [
  {
   "cell_type": "markdown",
   "metadata": {},
   "source": [
    "# Errors and Exceptions\n",
    "\n",
    "* 발생할 수 있는 오류와 예외처리를 확인해봅시다.\n",
    "\n",
    "# 문법 에러(Syntax Error)\n",
    "\n",
    "* 가장 많이 만날 수 있는 에러로 발생한 `파일 이름`과 `줄`, `^`을 통해 파이썬이 읽어 들일 때(parser)의 문제 발생 위치를 표현한다."
   ]
  },
  {
   "cell_type": "code",
   "execution_count": null,
   "metadata": {},
   "outputs": [],
   "source": [
    "# if문을 통해 발생시켜봅시다!\n",
    "if True:\n",
    "    print('참')\n",
    "else\n",
    "    print('거짓')"
   ]
  },
  {
   "cell_type": "code",
   "execution_count": null,
   "metadata": {},
   "outputs": [],
   "source": [
    "# print문을 통해 다른 오류를 발생시켜봅시다!\n",
    "# EOL 오류를 봅시다 End of Line\n",
    "print('hi)"
   ]
  },
  {
   "cell_type": "code",
   "execution_count": null,
   "metadata": {},
   "outputs": [],
   "source": [
    "# EOF 에러도 보게 됩니다. End of File\n",
    "print('hi'"
   ]
  },
  {
   "cell_type": "code",
   "execution_count": null,
   "metadata": {},
   "outputs": [],
   "source": [
    "# 정확한 위치를 지정하지 않을 수도 있으므로 앞뒤로 모두 확인을 해봐야합니다.\n",
    "if True print('참')"
   ]
  },
  {
   "cell_type": "code",
   "execution_count": null,
   "metadata": {},
   "outputs": [],
   "source": [
    "'hi' if True # 조건 표현식은 항상 else 키워드까지 표현되어야 함."
   ]
  },
  {
   "cell_type": "code",
   "execution_count": null,
   "metadata": {},
   "outputs": [],
   "source": [
    "[x for x in range(3) if True else False] # list comprehension에서 for문 뒷쪽에 쓰이는 if는 else 키워드랑 같이 쓸 수 없음.(필터임!!)\n",
    "\n",
    "# 쓰고 싶다면, 아래처럼 for문 왼쪽에 조건표현식으로 써야함.\n",
    "[True if else False for x in range(3)]"
   ]
  },
  {
   "cell_type": "markdown",
   "metadata": {},
   "source": [
    "# 예외 (Exceptions)\n",
    "\n",
    "* 문법이나 표현식이 바르게 되어있지만, 실행시 발생하는 에러입니다.\n",
    "\n",
    "* 아래 제시된 모든 에러는 Exception을 상속받아 이뤄집니다."
   ]
  },
  {
   "cell_type": "code",
   "execution_count": null,
   "metadata": {},
   "outputs": [],
   "source": [
    "# ZeroDivisionError를 확인해봅시다.\n",
    "10 / 0"
   ]
  },
  {
   "cell_type": "code",
   "execution_count": null,
   "metadata": {},
   "outputs": [],
   "source": [
    "# NameError를 확인해봅시다. \n",
    "print(abc)\n",
    "# 이름 공간(namespace)에서 유효하지 않은 이름 (정의되지 않은 이름)\n",
    "# 해당 변수명, 혹은 모듈 등이 제대로 선언되었는지 확인"
   ]
  },
  {
   "cell_type": "code",
   "execution_count": null,
   "metadata": {},
   "outputs": [],
   "source": [
    "random.seed(1) # 모듈이 import 되었는지 확인"
   ]
  },
  {
   "cell_type": "code",
   "execution_count": null,
   "metadata": {},
   "outputs": [],
   "source": [
    "# TypeError를 확인해봅시다.\n",
    "1 + '1'\n",
    "\n",
    "# 데이터 타입 자체가 잘못 되었을 경우\n",
    "# 위에서의 오류는 지원되지 않는(unsupported) 피연산자(operand) 타입(type) + 기호에 대해서"
   ]
  },
  {
   "cell_type": "code",
   "execution_count": null,
   "metadata": {},
   "outputs": [],
   "source": [
    "# 함수 호출과정에서 TypeError도 발생하게 됩니다. 확인해봅시다.\n",
    "round('3.5')"
   ]
  },
  {
   "cell_type": "code",
   "execution_count": null,
   "metadata": {
    "scrolled": true
   },
   "outputs": [],
   "source": [
    "# 함수호출 과정에서 다양한 오류를 확인할 수 있습니다. : 필수 argument 누락\n",
    "round() # 반드시 필요한 인자가 없음"
   ]
  },
  {
   "cell_type": "code",
   "execution_count": null,
   "metadata": {},
   "outputs": [],
   "source": [
    "import random\n",
    "random.sample([1, 2])"
   ]
  },
  {
   "cell_type": "code",
   "execution_count": null,
   "metadata": {},
   "outputs": [],
   "source": [
    "# 함수호출 과정에서 다양한 오류를 확인할 수 있습니다. : argument 많은 경우\n",
    "round(3, 5, 6) # 2개까지 받을 수 있는데(at most 2), 3개를 줬네"
   ]
  },
  {
   "cell_type": "code",
   "execution_count": null,
   "metadata": {},
   "outputs": [],
   "source": [
    "# ValueError를 확인해봅시다\n",
    "numbers = [1, 2]\n",
    "numbers.index(3) # 리스트에 3이 없네"
   ]
  },
  {
   "cell_type": "code",
   "execution_count": null,
   "metadata": {},
   "outputs": [],
   "source": [
    "# ValueError를 확인해봅시다.\n",
    "int('3.5') # 10진수 형태의 문자열만 정수로 바꿀 수 있다."
   ]
  },
  {
   "cell_type": "code",
   "execution_count": null,
   "metadata": {},
   "outputs": [],
   "source": [
    "# IndexError를 확인해봅시다.\n",
    "numbers = [1, 2]\n",
    "numbers[3]\n",
    "# index의 범위를 벗어남!"
   ]
  },
  {
   "cell_type": "code",
   "execution_count": null,
   "metadata": {},
   "outputs": [],
   "source": [
    "# KeyError를 확인해봅시다. \n",
    "my_dict = {}\n",
    "my_dict['hi'] # 딕셔너리에서 발생"
   ]
  },
  {
   "cell_type": "code",
   "execution_count": null,
   "metadata": {},
   "outputs": [],
   "source": [
    "# ModuleNotFoundError를 확인해봅시다.\n",
    "import reque"
   ]
  },
  {
   "cell_type": "code",
   "execution_count": null,
   "metadata": {},
   "outputs": [],
   "source": [
    "# ImportError를 확인해봅시다.\n",
    "from bs4 import B\n",
    "# 모듈은 잘 찾았는데, 해당 변수/함수/클래스 등이 없는 경우"
   ]
  },
  {
   "cell_type": "code",
   "execution_count": null,
   "metadata": {},
   "outputs": [],
   "source": [
    "# KeyboardInterrupt를 확인해봅시다.\n",
    "while True: # 정지버튼을 누르면 나옴\n",
    "    continue\n",
    "    \n",
    "# 주피터노트북 - 정지버튼, 일반적으로 파이썬 실행 환경(bash, cmd)는 ctrl + c를 눌러서 중간에 종료했을 때"
   ]
  },
  {
   "cell_type": "markdown",
   "metadata": {},
   "source": [
    "# 예외 처리 \n",
    "\n",
    "## 기본  - `try` `except`\n",
    "`try` 구문을 이용하여 예외 처리를 할 수 있습니다.\n",
    "\n",
    "기본은 다음과 같은 구조를 가지고 있습니다.\n",
    "\n",
    "```python\n",
    "try:\n",
    "    codeblock1\n",
    "except 예외:\n",
    "    codeblock2\n",
    "```\n",
    "\n",
    "* `try`절이 실행됩니다. \n",
    "\n",
    "* 예외가 발생되지 않으면, `except`없이 실행이 종료가 됩니다.\n",
    "\n",
    "* 예외가 중간에 발생하면, 남은 부분을 수행하지 않고, `except`가 실행됩니다."
   ]
  },
  {
   "cell_type": "code",
   "execution_count": null,
   "metadata": {},
   "outputs": [],
   "source": [
    "# 사용자로부터 값을 받아 정수로 변환하여 출력해봅시다.\n",
    "num = input('숫자를 입력하세요')\n",
    "print(int(num))"
   ]
  },
  {
   "cell_type": "code",
   "execution_count": null,
   "metadata": {},
   "outputs": [],
   "source": [
    "# 사용자가 문자열을 넣어 해당 오류(ValueError)가 발생하면, 숫자를 입력하라고 출력해봅시다.\n",
    "try:\n",
    "    num = input('숫자를 입력하세요 : ')\n",
    "    print(int(num))\n",
    "    print('짝짝짝')\n",
    "except ValueError:\n",
    "    print('바보야 정수를 입력하라고')"
   ]
  },
  {
   "cell_type": "markdown",
   "metadata": {},
   "source": [
    "## 복수의 예외 처리\n",
    "\n",
    "* 두 가지 예외를 모두 처리할 수 있습니다. \n",
    "\n",
    "```python\n",
    "try:\n",
    "    codeblock1\n",
    "except (예외1, 예외2):\n",
    "    codeblock2\n",
    "```"
   ]
  },
  {
   "cell_type": "code",
   "execution_count": null,
   "metadata": {},
   "outputs": [],
   "source": [
    "# 100을 사용자가 입력한 값으로 나눈 후 출력하는 코드를 작성해봅시다.\n",
    "num = input('100으로 나누고 싶은 숫자를 입력하세요: ')\n",
    "print(100/int(num))"
   ]
  },
  {
   "cell_type": "code",
   "execution_count": null,
   "metadata": {},
   "outputs": [],
   "source": [
    "# 문자열일때와 0일때 모두 처리를 해봅시다\n",
    "try:\n",
    "    num = input('100으로 나누고 싶은 숫자를 입력하세요: ')\n",
    "    print(100/int(num))\n",
    "except (ValueError, ZeroDivisionError):\n",
    "    print('너 바보니...')"
   ]
  },
  {
   "cell_type": "code",
   "execution_count": null,
   "metadata": {},
   "outputs": [],
   "source": [
    "# 각각 다른 오류를 출력할 수 있습니다.\n",
    "try:\n",
    "    num = input('100으로 나누고 싶은 숫자를 입력하세요: ')\n",
    "    print(100/int(num))\n",
    "except ValueError:\n",
    "    print('숫자 맞는지 확인해')\n",
    "except ZeroDivisionError:\n",
    "    print('0으로 나눌 수는 없지...')\n",
    "except:\n",
    "    print('무슨 일인지 모르겠지만 오류야')"
   ]
  },
  {
   "cell_type": "code",
   "execution_count": null,
   "metadata": {},
   "outputs": [],
   "source": [
    "# 여기서 중요한 내용은 에러가 순차적으로 수행됨으로, 가장 작은 범주부터 시작해야합니다.\n",
    "try:\n",
    "    num = input('100으로 나누고 싶은 숫자를 입력하세요: ')\n",
    "    print(100/int(num))\n",
    "except Exception:\n",
    "    print('오류')\n",
    "except ValueError:\n",
    "    print('숫자 맞는지 확인해!') # 절대 실행 안됨"
   ]
  },
  {
   "cell_type": "code",
   "execution_count": null,
   "metadata": {},
   "outputs": [],
   "source": [
    "# 순서에 따라서도 달라짐\n",
    "try:\n",
    "    num = input('100으로 나누고 싶은 숫자를 입력하세요: ')\n",
    "    print(100/int(num))\n",
    "except ValueError:\n",
    "    print('숫자 맞는지 확인해!') # 절대 실행 안됨\n",
    "except Exception:\n",
    "    print('오류')"
   ]
  },
  {
   "cell_type": "code",
   "execution_count": null,
   "metadata": {},
   "outputs": [],
   "source": [
    "num = 3\n",
    "if num > 0:\n",
    "    print('hi')\n",
    "elif num > -1:\n",
    "    print('bye')"
   ]
  },
  {
   "cell_type": "markdown",
   "metadata": {},
   "source": [
    "## 에러 문구 처리\n",
    "\n",
    "* 에러 문구를 함께 넘겨줄 수 있습니다.\n",
    "\n",
    "```python\n",
    "try:\n",
    "    codeblock1\n",
    "except 예외 as e:\n",
    "    codeblock2\n",
    "```"
   ]
  },
  {
   "cell_type": "code",
   "execution_count": null,
   "metadata": {},
   "outputs": [],
   "source": [
    "# 에러 메세지를 넘겨줄 수도 있습니다.\n",
    "try:\n",
    "    a = []\n",
    "    a[3]\n",
    "except IndexError as e:\n",
    "    print(f'오류발생!!!!!!! {e}') # e로 메시지를 넘겨줌"
   ]
  },
  {
   "cell_type": "code",
   "execution_count": null,
   "metadata": {},
   "outputs": [],
   "source": [
    "a = []\n",
    "a[3]"
   ]
  },
  {
   "cell_type": "markdown",
   "metadata": {},
   "source": [
    "## `else`\n",
    "\n",
    "* 에러가 발생하지 않는 경우 수행되는 문장은 `else`를 이용합니다.\n",
    "\n",
    "```python\n",
    "try:\n",
    "    codeblock1\n",
    "except 예외:\n",
    "    codeblock2\n",
    "else:\n",
    "    codeblock3\n",
    "```"
   ]
  },
  {
   "cell_type": "code",
   "execution_count": null,
   "metadata": {},
   "outputs": [],
   "source": [
    "# else를 사용해봅시다.\n",
    "try:\n",
    "    numbers = [1, 2, 3]\n",
    "    number = numbers[0]\n",
    "except IndexError:\n",
    "    print('오류')\n",
    "else:\n",
    "    print(number * 100)"
   ]
  },
  {
   "cell_type": "markdown",
   "metadata": {},
   "source": [
    "## `finally` \n",
    "\n",
    "* 반드시 수행해야하는 문장은 `finally`를 활용합니다.\n",
    "\n",
    "```python\n",
    "try:\n",
    "    codeblock1\n",
    "except 예외:\n",
    "    codeblock2\n",
    "finally:\n",
    "    codeblock3\n",
    "```"
   ]
  },
  {
   "cell_type": "code",
   "execution_count": null,
   "metadata": {},
   "outputs": [],
   "source": [
    "# finally를 사용해봅시다.\n",
    "try:\n",
    "    a = [1, 2]\n",
    "    print(a[5])\n",
    "except Exception:\n",
    "    print('오류발생...')\n",
    "finally:\n",
    "    print(a)"
   ]
  },
  {
   "cell_type": "markdown",
   "metadata": {},
   "source": [
    "# 예외 발생시키기\n",
    "\n",
    "`raise`를 통해 예외를 발생시킬 수 있습니다."
   ]
  },
  {
   "cell_type": "code",
   "execution_count": null,
   "metadata": {},
   "outputs": [],
   "source": [
    "# raise를 사용해봅시다.\n",
    "raise ValueError('값이 뭔가 잘못 되었다...')"
   ]
  },
  {
   "cell_type": "markdown",
   "metadata": {},
   "source": [
    "## 실습 문제\n",
    "\n",
    ">양의 정수 두개를 받아 몫과 나머지로 출력하는 함수를 만들어보세요.\n",
    "\n",
    "`def my_div(num1,num2)`\n",
    "\n",
    "- num2가 0이여서 발생하는 오류인 경우 **에러메시지**를 출력해주세요.\n",
    " \n",
    " 예) division by zero 오류가 발생하였습니다.\n",
    " \n",
    " \n",
    "- 인자가 string이여서 발생하는 경우는 **ValueError와 함께 '숫자를 넣어주세요'를 출력**해주세요.\n",
    "(실제로 이 경우에 발생하는 것은 TypeError입니다.)\n",
    "\n",
    "- 정상적인 경우에는 결과를 return합니다."
   ]
  },
  {
   "cell_type": "code",
   "execution_count": null,
   "metadata": {},
   "outputs": [],
   "source": [
    "def my_div(num1, num2):\n",
    "    try:\n",
    "        result = num1 / num2\n",
    "    except ZeroDivisionError as z:\n",
    "        print(f'{z} 오류 발생')\n",
    "    except:\n",
    "        raise ValueError('숫자를 넣어주세요')\n",
    "    else:\n",
    "        return result\n",
    "my_div(1, 0)\n",
    "my_div('1', '5')"
   ]
  },
  {
   "cell_type": "markdown",
   "metadata": {},
   "source": [
    "# `assert`\n",
    "\n",
    "`assert` 문은 예외를 발생시키는 다른 방법이다. \n",
    "\n",
    "보통 상태를 검증하는데 사용되며 무조건 `AssertionError`가 발생한다.\n",
    "\n",
    "```\n",
    "assert Boolean expression, error message\n",
    "```\n",
    "\n",
    "위의 검증식이 거짓일 경우를 발생한다.\n",
    "\n",
    "`raise`는 항상 예외를 발생시키고, 지정한 예외가 발생한다는 점에서 다르다."
   ]
  },
  {
   "cell_type": "markdown",
   "metadata": {},
   "source": [
    "## 실습 문제\n",
    "\n",
    ">양의 정수 두개를 받아 몫과 나머지로 출력하는 함수를 만들어보세요.\n",
    "\n",
    "`def my_div(num1,num2)`\n",
    "\n",
    "- assert를 활용하여, int가 아닌 경우 AssertionError를 발생시켜봅시다."
   ]
  },
  {
   "cell_type": "code",
   "execution_count": null,
   "metadata": {},
   "outputs": [],
   "source": [
    "def my_div(num1, num2):\n",
    "    assert isinstance(num1, int) or isinstance(num2, int), '숫자를 입력하지 않았습니다.'\n",
    "my_div('1', '2') # error 명을 명시하지 않아도 됨"
   ]
  }
 ],
 "metadata": {
  "kernelspec": {
   "display_name": "Python 3",
   "language": "python",
   "name": "python3"
  },
  "language_info": {
   "codemirror_mode": {
    "name": "ipython",
    "version": 3
   },
   "file_extension": ".py",
   "mimetype": "text/x-python",
   "name": "python",
   "nbconvert_exporter": "python",
   "pygments_lexer": "ipython3",
   "version": "3.7.3"
  },
  "latex_envs": {
   "LaTeX_envs_menu_present": true,
   "autoclose": false,
   "autocomplete": true,
   "bibliofile": "biblio.bib",
   "cite_by": "apalike",
   "current_citInitial": 1,
   "eqLabelWithNumbers": true,
   "eqNumInitial": 1,
   "hotkeys": {
    "equation": "Ctrl-E",
    "itemize": "Ctrl-I"
   },
   "labels_anchors": false,
   "latex_user_defs": false,
   "report_style_numbering": false,
   "user_envs_cfg": false
  },
  "toc": {
   "base_numbering": 1,
   "nav_menu": {},
   "number_sections": true,
   "sideBar": true,
   "skip_h1_title": false,
   "title_cell": "Table of Contents",
   "title_sidebar": "Contents",
   "toc_cell": false,
   "toc_position": {},
   "toc_section_display": true,
   "toc_window_display": false
  }
 },
 "nbformat": 4,
 "nbformat_minor": 2
}
