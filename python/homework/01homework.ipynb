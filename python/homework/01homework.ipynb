{
 "cells": [
  {
   "cell_type": "markdown",
   "metadata": {},
   "source": [
    "# Python 1.  프로그래밍 기초(Homework)"
   ]
  },
  {
   "cell_type": "markdown",
   "metadata": {},
   "source": [
    "1. Python에서 사용할 수 없는 식별자(예약어)를 찾아 작성하세요. "
   ]
  },
  {
   "cell_type": "code",
   "execution_count": 1,
   "metadata": {},
   "outputs": [
    {
     "name": "stdout",
     "output_type": "stream",
     "text": [
      "['False',\n",
      " 'None',\n",
      " 'True',\n",
      " 'and',\n",
      " 'as',\n",
      " 'assert',\n",
      " 'async',\n",
      " 'await',\n",
      " 'break',\n",
      " 'class',\n",
      " 'continue',\n",
      " 'def',\n",
      " 'del',\n",
      " 'elif',\n",
      " 'else',\n",
      " 'except',\n",
      " 'finally',\n",
      " 'for',\n",
      " 'from',\n",
      " 'global',\n",
      " 'if',\n",
      " 'import',\n",
      " 'in',\n",
      " 'is',\n",
      " 'lambda',\n",
      " 'nonlocal',\n",
      " 'not',\n",
      " 'or',\n",
      " 'pass',\n",
      " 'raise',\n",
      " 'return',\n",
      " 'try',\n",
      " 'while',\n",
      " 'with',\n",
      " 'yield']\n"
     ]
    }
   ],
   "source": [
    "import pprint\n",
    "import keyword\n",
    "pprint.pprint(keyword.kwlist)"
   ]
  },
  {
   "cell_type": "markdown",
   "metadata": {},
   "source": [
    "2. 파이썬에서 float는 실수를 표현하는 과정에서 같은 값으로 일치되지 않습니다.(floating point rounding error)\n",
    "따라서, 아래의 값을 비교하기 위해 작성해야 하는 코드를 작성하세요.\n",
    "a = 0.1 * 3\n",
    "b = 0.3"
   ]
  },
  {
   "cell_type": "code",
   "execution_count": 2,
   "metadata": {},
   "outputs": [
    {
     "name": "stdout",
     "output_type": "stream",
     "text": [
      "<class 'float'>\n",
      "<class 'float'>\n"
     ]
    },
    {
     "data": {
      "text/plain": [
       "True"
      ]
     },
     "execution_count": 2,
     "metadata": {},
     "output_type": "execute_result"
    }
   ],
   "source": [
    "a = 0.1 * 3\n",
    "b = 0.3\n",
    "print(type(a))\n",
    "print(type(b))\n",
    "round(a,1) == round(b,1)"
   ]
  },
  {
   "cell_type": "code",
   "execution_count": 3,
   "metadata": {},
   "outputs": [
    {
     "data": {
      "text/plain": [
       "True"
      ]
     },
     "execution_count": 3,
     "metadata": {},
     "output_type": "execute_result"
    }
   ],
   "source": [
    "a = 0.1 * 3\n",
    "b = 0.3\n",
    "abs(a-b) <= 1e-10"
   ]
  },
  {
   "cell_type": "code",
   "execution_count": 4,
   "metadata": {},
   "outputs": [
    {
     "data": {
      "text/plain": [
       "True"
      ]
     },
     "execution_count": 4,
     "metadata": {},
     "output_type": "execute_result"
    }
   ],
   "source": [
    "import math\n",
    "math.isclose(a, b)"
   ]
  },
  {
   "cell_type": "markdown",
   "metadata": {},
   "source": [
    "3. 이스케이프 문자열 중 1) 줄바꿈 2) 탭 3) \\을 작성하세요"
   ]
  },
  {
   "cell_type": "code",
   "execution_count": 5,
   "metadata": {},
   "outputs": [
    {
     "name": "stdout",
     "output_type": "stream",
     "text": [
      "이스케이프\n",
      "줄바꿈\n",
      "이스케이프\t탭\n",
      "'이스케이프'\n"
     ]
    }
   ],
   "source": [
    "print('이스케이프', end='\\n')\n",
    "print('줄바꿈')\n",
    "print('이스케이프', end='\\t')\n",
    "print('탭')\n",
    "print('\\'이스케이프\\'')"
   ]
  },
  {
   "cell_type": "markdown",
   "metadata": {},
   "source": [
    "4. \"안녕, 철수야\"를 String Interpolation을 사용하여 출력하세요.\n",
    "print(name = \"철수\")"
   ]
  },
  {
   "cell_type": "code",
   "execution_count": 6,
   "metadata": {},
   "outputs": [
    {
     "name": "stdout",
     "output_type": "stream",
     "text": [
      "안녕, 철수야\n",
      "안녕, 철수야\n"
     ]
    }
   ],
   "source": [
    "name = '철수'\n",
    "print(f'안녕, {name}야')\n",
    "print('안녕, {}야'.format(name))"
   ]
  },
  {
   "cell_type": "markdown",
   "metadata": {},
   "source": [
    "5. 다음 중 형변환시 오류가 발생하는 것은?\n",
    "1) str(1) 2) int('30')\n",
    "3) int(5) 4) bool('50')\n",
    "5) int('3.5')\n",
    "=> 5)번; 문자열은 int형으로 형변환 불가"
   ]
  },
  {
   "cell_type": "code",
   "execution_count": 7,
   "metadata": {},
   "outputs": [
    {
     "ename": "NameError",
     "evalue": "name 'True5' is not defined",
     "output_type": "error",
     "traceback": [
      "\u001b[1;31m---------------------------------------------------------------------------\u001b[0m",
      "\u001b[1;31mNameError\u001b[0m                                 Traceback (most recent call last)",
      "\u001b[1;32m<ipython-input-7-9611112f8b5f>\u001b[0m in \u001b[0;36m<module>\u001b[1;34m\u001b[0m\n\u001b[0;32m      2\u001b[0m \u001b[0mint\u001b[0m\u001b[1;33m(\u001b[0m\u001b[1;34m'30'\u001b[0m\u001b[1;33m)\u001b[0m\u001b[1;33m\u001b[0m\u001b[1;33m\u001b[0m\u001b[0m\n\u001b[0;32m      3\u001b[0m int(\n\u001b[1;32m----> 4\u001b[1;33m True5)\n\u001b[0m\u001b[0;32m      5\u001b[0m \u001b[0mbool\u001b[0m\u001b[1;33m(\u001b[0m\u001b[1;34m'50'\u001b[0m\u001b[1;33m)\u001b[0m\u001b[1;33m\u001b[0m\u001b[1;33m\u001b[0m\u001b[0m\n",
      "\u001b[1;31mNameError\u001b[0m: name 'True5' is not defined"
     ]
    }
   ],
   "source": [
    "str(1)\n",
    "int('30')\n",
    "int(\n",
    "True5)\n",
    "bool('50')"
   ]
  }
 ],
 "metadata": {
  "kernelspec": {
   "display_name": "Python 3",
   "language": "python",
   "name": "python3"
  },
  "language_info": {
   "codemirror_mode": {
    "name": "ipython",
    "version": 3
   },
   "file_extension": ".py",
   "mimetype": "text/x-python",
   "name": "python",
   "nbconvert_exporter": "python",
   "pygments_lexer": "ipython3",
   "version": "3.7.3"
  },
  "toc": {
   "base_numbering": 1,
   "nav_menu": {},
   "number_sections": true,
   "sideBar": true,
   "skip_h1_title": false,
   "title_cell": "Table of Contents",
   "title_sidebar": "Contents",
   "toc_cell": false,
   "toc_position": {},
   "toc_section_display": true,
   "toc_window_display": false
  }
 },
 "nbformat": 4,
 "nbformat_minor": 2
}
