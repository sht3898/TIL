{
 "cells": [
  {
   "cell_type": "markdown",
   "metadata": {},
   "source": [
    "# Python 3. 함수(homework)"
   ]
  },
  {
   "cell_type": "markdown",
   "metadata": {},
   "source": [
    "1. Python에서 기본으로 사용할 수 있는 Built in function 5개를 찾아서 작성하세요"
   ]
  },
  {
   "cell_type": "code",
   "execution_count": 10,
   "metadata": {},
   "outputs": [
    {
     "data": {
      "text/plain": [
       "['False', 'RecursionError', 'True', 'TimeoutError', 'FileNotFoundError']"
      ]
     },
     "execution_count": 10,
     "metadata": {},
     "output_type": "execute_result"
    }
   ],
   "source": [
    "import random\n",
    "random.sample(dir(__builtins__),5)"
   ]
  },
  {
   "cell_type": "markdown",
   "metadata": {},
   "source": [
    "2. 다음과 같이 함수가 정의되어 있다. 보기 중, 오류가 발생하는 코드를 고르시오."
   ]
  },
  {
   "cell_type": "code",
   "execution_count": 4,
   "metadata": {},
   "outputs": [],
   "source": [
    "def ssafy(name, location='서울'):\n",
    "    print(f'{name}의 지역은 {location}입니다.')\n",
    "\n",
    "# 3번 코드에서 오류 발생"
   ]
  },
  {
   "cell_type": "code",
   "execution_count": 5,
   "metadata": {},
   "outputs": [
    {
     "name": "stdout",
     "output_type": "stream",
     "text": [
      "철수의 지역은 대전입니다.\n"
     ]
    }
   ],
   "source": [
    "ssafy(location='대전', name='철수')"
   ]
  },
  {
   "cell_type": "code",
   "execution_count": 6,
   "metadata": {},
   "outputs": [
    {
     "name": "stdout",
     "output_type": "stream",
     "text": [
      "길동의 지역은 광주입니다.\n"
     ]
    }
   ],
   "source": [
    "ssafy('길동', location='광주')"
   ]
  },
  {
   "cell_type": "code",
   "execution_count": 11,
   "metadata": {},
   "outputs": [
    {
     "ename": "SyntaxError",
     "evalue": "positional argument follows keyword argument (<ipython-input-11-74330a7154ca>, line 1)",
     "output_type": "error",
     "traceback": [
      "\u001b[1;36m  File \u001b[1;32m\"<ipython-input-11-74330a7154ca>\"\u001b[1;36m, line \u001b[1;32m1\u001b[0m\n\u001b[1;33m    ssafy(name='허준', '구미') # 키워드 인자 썼으면 다음에 오는 인수도 키워드로 써야함\u001b[0m\n\u001b[1;37m                        ^\u001b[0m\n\u001b[1;31mSyntaxError\u001b[0m\u001b[1;31m:\u001b[0m positional argument follows keyword argument\n"
     ]
    }
   ],
   "source": [
    "ssafy(name='허준', '구미') # 키워드 인자 썼으면 다음에 오는 인수도 키워드로 써야함"
   ]
  },
  {
   "cell_type": "markdown",
   "metadata": {},
   "source": [
    "3. 다음과 같이 코드가 작성되어 있을 때, 변수 result에 저장된 값을 작성하시오."
   ]
  },
  {
   "cell_type": "code",
   "execution_count": 19,
   "metadata": {},
   "outputs": [
    {
     "name": "stdout",
     "output_type": "stream",
     "text": [
      "11\n",
      "None\n"
     ]
    }
   ],
   "source": [
    "def my_func(a, b):\n",
    "    c = a + b\n",
    "    print(c)\n",
    "    \n",
    "result = my_func(4, 7) # 11\n",
    "print(result) # 저장된 값이 없음"
   ]
  },
  {
   "cell_type": "code",
   "execution_count": 20,
   "metadata": {},
   "outputs": [
    {
     "name": "stdout",
     "output_type": "stream",
     "text": [
      "None\n"
     ]
    }
   ],
   "source": [
    "my_list = [3, 2, 1].sort()\n",
    "print(my_list)"
   ]
  },
  {
   "cell_type": "code",
   "execution_count": 21,
   "metadata": {},
   "outputs": [
    {
     "data": {
      "text/plain": [
       "{'__name__': '__main__',\n",
       " '__doc__': 'Automatically created module for IPython interactive environment',\n",
       " '__package__': None,\n",
       " '__loader__': None,\n",
       " '__spec__': None,\n",
       " '__builtin__': <module 'builtins' (built-in)>,\n",
       " '__builtins__': <module 'builtins' (built-in)>,\n",
       " '_ih': ['',\n",
       "  'import random\\nrandom.sample(dir(__builtins__),5)',\n",
       "  'import random\\nrandom.sample(dir(__builtins__),5)',\n",
       "  'import random\\nrandom.sample(dir(__builtins__),5)',\n",
       "  'import random\\nrandom.sample(dir(__builtins__),5)',\n",
       "  'import random\\nrandom.sample(dir(__builtins__),5)',\n",
       "  'import random\\nrandom.sample(dir(__builtins__),5)',\n",
       "  'import random\\nrandom.sample(dir(__builtins__),5)',\n",
       "  'import random\\nrandom.sample(dir(__builtins__),5)',\n",
       "  'import random\\nrandom.sample(dir(__builtins__),5)',\n",
       "  'import random\\nrandom.sample(dir(__builtins__),5)',\n",
       "  \"ssafy(name='허준', '구미') # 키워드 인자 썼으면 다음에 오는 인수도 키워드로 써야함\",\n",
       "  'def my_func(a, b):\\n    c = a + b\\n    print(c)\\n    \\nresult = my_func(4, 7) # 11',\n",
       "  'def my_func(a, b):\\n    c = a + b\\n    print(c)\\n    \\nresult = my_func(4, 7) # 11',\n",
       "  'def my_func(a, b):\\n    c = a + b\\n    print(c)\\n    \\nresult = my_func(4, 7) # 11',\n",
       "  'def my_func(a, b):\\n    c = a + b\\n    print(c)\\n    \\nresult = my_func(4, 7) # 11',\n",
       "  'def my_func(a, b):\\n    c = a + b\\n    print(c)\\n    \\nresult = my_func(4, 7) # 11',\n",
       "  'def my_func(a, b):\\n    c = a + b\\n    print(c)\\n    \\nresult = my_func(4, 7) # 11\\nresult',\n",
       "  'def my_func(a, b):\\n    c = a + b\\n    print(c)\\n    \\nresult = my_func(4, 7) # 11\\nprint(result)',\n",
       "  'def my_func(a, b):\\n    c = a + b\\n    print(c)\\n    \\nresult = my_func(4, 7) # 11\\nprint(result) # 저장된 값이 없음',\n",
       "  'my_list = [3, 2, 1].sort()\\nprint(my_list)',\n",
       "  'globals()'],\n",
       " '_oh': {1: ['__import__',\n",
       "   'hasattr',\n",
       "   'ConnectionResetError',\n",
       "   'IndentationError',\n",
       "   'getattr'],\n",
       "  2: ['Warning', 'UnicodeTranslateError', 'super', 'iter', 'filter'],\n",
       "  3: ['any', 'slice', 'ResourceWarning', 'license', 'RuntimeWarning'],\n",
       "  4: ['EOFError', 'delattr', 'list', 'str', 'IndexError'],\n",
       "  5: ['AttributeError',\n",
       "   '__doc__',\n",
       "   '__name__',\n",
       "   'ascii',\n",
       "   'PendingDeprecationWarning'],\n",
       "  6: ['hasattr', '__doc__', 'reversed', 'ZeroDivisionError', 'bool'],\n",
       "  7: ['EOFError', 'KeyboardInterrupt', 'input', 'sum', 'MemoryError'],\n",
       "  8: ['print', 'sum', 'getattr', 'isinstance', 'next'],\n",
       "  9: ['oct', '__package__', 'FutureWarning', 'max', 'BytesWarning'],\n",
       "  10: ['False',\n",
       "   'RecursionError',\n",
       "   'True',\n",
       "   'TimeoutError',\n",
       "   'FileNotFoundError']},\n",
       " '_dh': ['C:\\\\Users\\\\student\\\\Desktop\\\\과제'],\n",
       " 'In': ['',\n",
       "  'import random\\nrandom.sample(dir(__builtins__),5)',\n",
       "  'import random\\nrandom.sample(dir(__builtins__),5)',\n",
       "  'import random\\nrandom.sample(dir(__builtins__),5)',\n",
       "  'import random\\nrandom.sample(dir(__builtins__),5)',\n",
       "  'import random\\nrandom.sample(dir(__builtins__),5)',\n",
       "  'import random\\nrandom.sample(dir(__builtins__),5)',\n",
       "  'import random\\nrandom.sample(dir(__builtins__),5)',\n",
       "  'import random\\nrandom.sample(dir(__builtins__),5)',\n",
       "  'import random\\nrandom.sample(dir(__builtins__),5)',\n",
       "  'import random\\nrandom.sample(dir(__builtins__),5)',\n",
       "  \"ssafy(name='허준', '구미') # 키워드 인자 썼으면 다음에 오는 인수도 키워드로 써야함\",\n",
       "  'def my_func(a, b):\\n    c = a + b\\n    print(c)\\n    \\nresult = my_func(4, 7) # 11',\n",
       "  'def my_func(a, b):\\n    c = a + b\\n    print(c)\\n    \\nresult = my_func(4, 7) # 11',\n",
       "  'def my_func(a, b):\\n    c = a + b\\n    print(c)\\n    \\nresult = my_func(4, 7) # 11',\n",
       "  'def my_func(a, b):\\n    c = a + b\\n    print(c)\\n    \\nresult = my_func(4, 7) # 11',\n",
       "  'def my_func(a, b):\\n    c = a + b\\n    print(c)\\n    \\nresult = my_func(4, 7) # 11',\n",
       "  'def my_func(a, b):\\n    c = a + b\\n    print(c)\\n    \\nresult = my_func(4, 7) # 11\\nresult',\n",
       "  'def my_func(a, b):\\n    c = a + b\\n    print(c)\\n    \\nresult = my_func(4, 7) # 11\\nprint(result)',\n",
       "  'def my_func(a, b):\\n    c = a + b\\n    print(c)\\n    \\nresult = my_func(4, 7) # 11\\nprint(result) # 저장된 값이 없음',\n",
       "  'my_list = [3, 2, 1].sort()\\nprint(my_list)',\n",
       "  'globals()'],\n",
       " 'Out': {1: ['__import__',\n",
       "   'hasattr',\n",
       "   'ConnectionResetError',\n",
       "   'IndentationError',\n",
       "   'getattr'],\n",
       "  2: ['Warning', 'UnicodeTranslateError', 'super', 'iter', 'filter'],\n",
       "  3: ['any', 'slice', 'ResourceWarning', 'license', 'RuntimeWarning'],\n",
       "  4: ['EOFError', 'delattr', 'list', 'str', 'IndexError'],\n",
       "  5: ['AttributeError',\n",
       "   '__doc__',\n",
       "   '__name__',\n",
       "   'ascii',\n",
       "   'PendingDeprecationWarning'],\n",
       "  6: ['hasattr', '__doc__', 'reversed', 'ZeroDivisionError', 'bool'],\n",
       "  7: ['EOFError', 'KeyboardInterrupt', 'input', 'sum', 'MemoryError'],\n",
       "  8: ['print', 'sum', 'getattr', 'isinstance', 'next'],\n",
       "  9: ['oct', '__package__', 'FutureWarning', 'max', 'BytesWarning'],\n",
       "  10: ['False',\n",
       "   'RecursionError',\n",
       "   'True',\n",
       "   'TimeoutError',\n",
       "   'FileNotFoundError']},\n",
       " 'get_ipython': <bound method InteractiveShell.get_ipython of <ipykernel.zmqshell.ZMQInteractiveShell object at 0x04CD0870>>,\n",
       " 'exit': <IPython.core.autocall.ZMQExitAutocall at 0x5c63f50>,\n",
       " 'quit': <IPython.core.autocall.ZMQExitAutocall at 0x5c63f50>,\n",
       " '_': ['False', 'RecursionError', 'True', 'TimeoutError', 'FileNotFoundError'],\n",
       " '__': ['oct', '__package__', 'FutureWarning', 'max', 'BytesWarning'],\n",
       " '___': ['print', 'sum', 'getattr', 'isinstance', 'next'],\n",
       " '_i': 'my_list = [3, 2, 1].sort()\\nprint(my_list)',\n",
       " '_ii': 'def my_func(a, b):\\n    c = a + b\\n    print(c)\\n    \\nresult = my_func(4, 7) # 11\\nprint(result) # 저장된 값이 없음',\n",
       " '_iii': 'def my_func(a, b):\\n    c = a + b\\n    print(c)\\n    \\nresult = my_func(4, 7) # 11\\nprint(result)',\n",
       " '_i1': 'import random\\nrandom.sample(dir(__builtins__),5)',\n",
       " 'random': <module 'random' from 'c:\\\\users\\\\student\\\\appdata\\\\local\\\\programs\\\\python\\\\python37-32\\\\lib\\\\random.py'>,\n",
       " '_1': ['__import__',\n",
       "  'hasattr',\n",
       "  'ConnectionResetError',\n",
       "  'IndentationError',\n",
       "  'getattr'],\n",
       " '_i2': 'import random\\nrandom.sample(dir(__builtins__),5)',\n",
       " '_2': ['Warning', 'UnicodeTranslateError', 'super', 'iter', 'filter'],\n",
       " '_i3': 'import random\\nrandom.sample(dir(__builtins__),5)',\n",
       " '_3': ['any', 'slice', 'ResourceWarning', 'license', 'RuntimeWarning'],\n",
       " '_i4': 'import random\\nrandom.sample(dir(__builtins__),5)',\n",
       " '_4': ['EOFError', 'delattr', 'list', 'str', 'IndexError'],\n",
       " '_i5': 'import random\\nrandom.sample(dir(__builtins__),5)',\n",
       " '_5': ['AttributeError',\n",
       "  '__doc__',\n",
       "  '__name__',\n",
       "  'ascii',\n",
       "  'PendingDeprecationWarning'],\n",
       " '_i6': 'import random\\nrandom.sample(dir(__builtins__),5)',\n",
       " '_6': ['hasattr', '__doc__', 'reversed', 'ZeroDivisionError', 'bool'],\n",
       " '_i7': 'import random\\nrandom.sample(dir(__builtins__),5)',\n",
       " '_7': ['EOFError', 'KeyboardInterrupt', 'input', 'sum', 'MemoryError'],\n",
       " '_i8': 'import random\\nrandom.sample(dir(__builtins__),5)',\n",
       " '_8': ['print', 'sum', 'getattr', 'isinstance', 'next'],\n",
       " '_i9': 'import random\\nrandom.sample(dir(__builtins__),5)',\n",
       " '_9': ['oct', '__package__', 'FutureWarning', 'max', 'BytesWarning'],\n",
       " '_i10': 'import random\\nrandom.sample(dir(__builtins__),5)',\n",
       " '_10': ['False',\n",
       "  'RecursionError',\n",
       "  'True',\n",
       "  'TimeoutError',\n",
       "  'FileNotFoundError'],\n",
       " '_i11': \"ssafy(name='허준', '구미') # 키워드 인자 썼으면 다음에 오는 인수도 키워드로 써야함\",\n",
       " '_i12': 'def my_func(a, b):\\n    c = a + b\\n    print(c)\\n    \\nresult = my_func(4, 7) # 11',\n",
       " 'my_func': <function __main__.my_func(a, b)>,\n",
       " 'result': None,\n",
       " '_i13': 'def my_func(a, b):\\n    c = a + b\\n    print(c)\\n    \\nresult = my_func(4, 7) # 11',\n",
       " '_i14': 'def my_func(a, b):\\n    c = a + b\\n    print(c)\\n    \\nresult = my_func(4, 7) # 11',\n",
       " '_i15': 'def my_func(a, b):\\n    c = a + b\\n    print(c)\\n    \\nresult = my_func(4, 7) # 11',\n",
       " '_i16': 'def my_func(a, b):\\n    c = a + b\\n    print(c)\\n    \\nresult = my_func(4, 7) # 11',\n",
       " '_i17': 'def my_func(a, b):\\n    c = a + b\\n    print(c)\\n    \\nresult = my_func(4, 7) # 11\\nresult',\n",
       " '_i18': 'def my_func(a, b):\\n    c = a + b\\n    print(c)\\n    \\nresult = my_func(4, 7) # 11\\nprint(result)',\n",
       " '_i19': 'def my_func(a, b):\\n    c = a + b\\n    print(c)\\n    \\nresult = my_func(4, 7) # 11\\nprint(result) # 저장된 값이 없음',\n",
       " '_i20': 'my_list = [3, 2, 1].sort()\\nprint(my_list)',\n",
       " 'my_list': None,\n",
       " '_i21': 'globals()'}"
      ]
     },
     "execution_count": 21,
     "metadata": {},
     "output_type": "execute_result"
    }
   ],
   "source": [
    "globals()"
   ]
  }
 ],
 "metadata": {
  "kernelspec": {
   "display_name": "Python 3",
   "language": "python",
   "name": "python3"
  },
  "language_info": {
   "codemirror_mode": {
    "name": "ipython",
    "version": 3
   },
   "file_extension": ".py",
   "mimetype": "text/x-python",
   "name": "python",
   "nbconvert_exporter": "python",
   "pygments_lexer": "ipython3",
   "version": "3.7.3"
  },
  "toc": {
   "base_numbering": 1,
   "nav_menu": {},
   "number_sections": true,
   "sideBar": true,
   "skip_h1_title": false,
   "title_cell": "Table of Contents",
   "title_sidebar": "Contents",
   "toc_cell": false,
   "toc_position": {},
   "toc_section_display": true,
   "toc_window_display": false
  }
 },
 "nbformat": 4,
 "nbformat_minor": 2
}
